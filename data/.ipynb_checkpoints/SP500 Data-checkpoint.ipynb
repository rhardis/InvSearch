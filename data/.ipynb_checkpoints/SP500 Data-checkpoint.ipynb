{
 "cells": [
  {
   "cell_type": "code",
   "execution_count": 37,
   "metadata": {},
   "outputs": [],
   "source": [
    "import yfinance as yf\n",
    "import pandas as pd\n",
    "import numpy as np\n",
    "import time"
   ]
  },
  {
   "cell_type": "code",
   "execution_count": 38,
   "metadata": {},
   "outputs": [],
   "source": [
    "sp500 = pd.read_csv(\"S&P500-Symbols.csv\",index_col=0)"
   ]
  },
  {
   "cell_type": "code",
   "execution_count": 39,
   "metadata": {},
   "outputs": [],
   "source": [
    "def rename_with_symbols(df, symbol):\n",
    "    for col in df.columns:\n",
    "        if '_' not in col:\n",
    "            df.rename(columns={col: \"{}_{}\".format(symbol,col)}, inplace=True)\n",
    "    return(None)\n",
    "\n",
    "def remove_close(df):\n",
    "    for col in df.columns:\n",
    "        df.rename(columns={col: col[:-6]}, inplace=True)\n",
    "    return(None)\n",
    "        "
   ]
  },
  {
   "cell_type": "code",
   "execution_count": 40,
   "metadata": {},
   "outputs": [
    {
     "data": {
      "text/html": [
       "<div>\n",
       "<style scoped>\n",
       "    .dataframe tbody tr th:only-of-type {\n",
       "        vertical-align: middle;\n",
       "    }\n",
       "\n",
       "    .dataframe tbody tr th {\n",
       "        vertical-align: top;\n",
       "    }\n",
       "\n",
       "    .dataframe thead th {\n",
       "        text-align: right;\n",
       "    }\n",
       "</style>\n",
       "<table border=\"1\" class=\"dataframe\">\n",
       "  <thead>\n",
       "    <tr style=\"text-align: right;\">\n",
       "      <th></th>\n",
       "      <th>^GSPC_Open</th>\n",
       "      <th>^GSPC_High</th>\n",
       "      <th>^GSPC_Low</th>\n",
       "      <th>^GSPC_Close</th>\n",
       "      <th>^GSPC_Volume</th>\n",
       "      <th>^GSPC_Dividends</th>\n",
       "      <th>^GSPC_Stock Splits</th>\n",
       "    </tr>\n",
       "    <tr>\n",
       "      <th>Date</th>\n",
       "      <th></th>\n",
       "      <th></th>\n",
       "      <th></th>\n",
       "      <th></th>\n",
       "      <th></th>\n",
       "      <th></th>\n",
       "      <th></th>\n",
       "    </tr>\n",
       "  </thead>\n",
       "  <tbody>\n",
       "    <tr>\n",
       "      <td>2020-05-08</td>\n",
       "      <td>2908.83</td>\n",
       "      <td>2932.16</td>\n",
       "      <td>2902.88</td>\n",
       "      <td>2929.80</td>\n",
       "      <td>4857160000</td>\n",
       "      <td>0</td>\n",
       "      <td>0</td>\n",
       "    </tr>\n",
       "    <tr>\n",
       "      <td>2020-05-11</td>\n",
       "      <td>2915.46</td>\n",
       "      <td>2944.25</td>\n",
       "      <td>2903.44</td>\n",
       "      <td>2930.19</td>\n",
       "      <td>4807320000</td>\n",
       "      <td>0</td>\n",
       "      <td>0</td>\n",
       "    </tr>\n",
       "    <tr>\n",
       "      <td>2020-05-12</td>\n",
       "      <td>2939.50</td>\n",
       "      <td>2945.82</td>\n",
       "      <td>2869.59</td>\n",
       "      <td>2870.12</td>\n",
       "      <td>5107710000</td>\n",
       "      <td>0</td>\n",
       "      <td>0</td>\n",
       "    </tr>\n",
       "    <tr>\n",
       "      <td>2020-05-13</td>\n",
       "      <td>2865.86</td>\n",
       "      <td>2874.14</td>\n",
       "      <td>2793.15</td>\n",
       "      <td>2820.00</td>\n",
       "      <td>6143130000</td>\n",
       "      <td>0</td>\n",
       "      <td>0</td>\n",
       "    </tr>\n",
       "    <tr>\n",
       "      <td>2020-05-14</td>\n",
       "      <td>2794.54</td>\n",
       "      <td>2811.38</td>\n",
       "      <td>2766.64</td>\n",
       "      <td>2809.89</td>\n",
       "      <td>1179919222</td>\n",
       "      <td>0</td>\n",
       "      <td>0</td>\n",
       "    </tr>\n",
       "  </tbody>\n",
       "</table>\n",
       "</div>"
      ],
      "text/plain": [
       "            ^GSPC_Open  ^GSPC_High  ^GSPC_Low  ^GSPC_Close  ^GSPC_Volume  \\\n",
       "Date                                                                       \n",
       "2020-05-08     2908.83     2932.16    2902.88      2929.80    4857160000   \n",
       "2020-05-11     2915.46     2944.25    2903.44      2930.19    4807320000   \n",
       "2020-05-12     2939.50     2945.82    2869.59      2870.12    5107710000   \n",
       "2020-05-13     2865.86     2874.14    2793.15      2820.00    6143130000   \n",
       "2020-05-14     2794.54     2811.38    2766.64      2809.89    1179919222   \n",
       "\n",
       "            ^GSPC_Dividends  ^GSPC_Stock Splits  \n",
       "Date                                             \n",
       "2020-05-08                0                   0  \n",
       "2020-05-11                0                   0  \n",
       "2020-05-12                0                   0  \n",
       "2020-05-13                0                   0  \n",
       "2020-05-14                0                   0  "
      ]
     },
     "execution_count": 40,
     "metadata": {},
     "output_type": "execute_result"
    }
   ],
   "source": [
    "ticklist = ['^GSPC','UPRO','SSO','IAU','TLT']+list(sp500.iloc[:,0])\n",
    "total_df = yf.Ticker(ticklist[0]).history(period=\"max\")\n",
    "\n",
    "rename_with_symbols(total_df, ticklist[0])\n",
    "\n",
    "total_df.tail() "
   ]
  },
  {
   "cell_type": "code",
   "execution_count": 12,
   "metadata": {},
   "outputs": [
    {
     "name": "stdout",
     "output_type": "stream",
     "text": [
      "0.0% Gathered\n",
      "1.9723865877712032% Gathered\n",
      "3.9447731755424065% Gathered\n",
      "5.9171597633136095% Gathered\n",
      "7.889546351084813% Gathered\n",
      "9.861932938856016% Gathered\n",
      "AIV\n",
      "            AIV_Open  AIV_High  AIV_Low  AIV_Close  AIV_Volume  AIV_Dividends  \\\n",
      "Date                                                                            \n",
      "2020-05-11     36.78     37.42    36.21      36.49   1002900.0           0.00   \n",
      "2020-05-12     36.65     36.65    34.69      34.98   1273300.0           0.00   \n",
      "2020-05-13     34.59     34.70    33.53      33.87   1619100.0           0.00   \n",
      "2020-05-14       NaN       NaN      NaN        NaN         NaN           0.41   \n",
      "2020-05-14     33.20     33.20    31.67      32.36    189748.0           0.00   \n",
      "\n",
      "            AIV_Stock Splits  \n",
      "Date                          \n",
      "2020-05-11               0.0  \n",
      "2020-05-12               0.0  \n",
      "2020-05-13               0.0  \n",
      "2020-05-14               0.0  \n",
      "2020-05-14               0.0  \n",
      "11.834319526627219% Gathered\n",
      "13.806706114398423% Gathered\n",
      "15.779092702169626% Gathered\n",
      "17.75147928994083% Gathered\n",
      "19.723865877712033% Gathered\n",
      "CF\n",
      "            CF_Open  CF_High  CF_Low  CF_Close  CF_Volume  CF_Dividends  \\\n",
      "Date                                                                      \n",
      "2020-05-11    26.34    27.27   26.03     27.12  2805900.0           0.0   \n",
      "2020-05-12    27.05    27.51   25.73     25.77  2324600.0           0.0   \n",
      "2020-05-13    25.70    26.01   24.10     24.29  2611600.0           0.0   \n",
      "2020-05-14      NaN      NaN     NaN       NaN        NaN           0.3   \n",
      "2020-05-14    23.71    24.05   23.05     23.94  1530981.0           0.0   \n",
      "\n",
      "            CF_Stock Splits  \n",
      "Date                         \n",
      "2020-05-11              0.0  \n",
      "2020-05-12              0.0  \n",
      "2020-05-13              0.0  \n",
      "2020-05-14              0.0  \n",
      "2020-05-14              0.0  \n",
      "CHD\n",
      "            CHD_Open  CHD_High  CHD_Low  CHD_Close  CHD_Volume  CHD_Dividends  \\\n",
      "Date                                                                            \n",
      "2020-05-11     73.17     74.43    72.98      73.75   1426400.0           0.00   \n",
      "2020-05-12     74.11     74.26    72.97      73.14   1388300.0           0.00   \n",
      "2020-05-13     73.03     73.76    72.84      73.21   1454300.0           0.00   \n",
      "2020-05-14       NaN       NaN      NaN        NaN         NaN           0.24   \n",
      "2020-05-14     73.30     73.95    71.72      71.79    393722.0           0.00   \n",
      "\n",
      "            CHD_Stock Splits  \n",
      "Date                          \n",
      "2020-05-11               0.0  \n",
      "2020-05-12               0.0  \n",
      "2020-05-13               0.0  \n",
      "2020-05-14               0.0  \n",
      "2020-05-14               0.0  \n",
      "21.696252465483234% Gathered\n",
      "CMS\n",
      "            CMS_Open  CMS_High  CMS_Low  CMS_Close  CMS_Volume  CMS_Dividends  \\\n",
      "Date                                                                            \n",
      "2020-05-11     54.51     55.28    53.70      55.07   1947500.0         0.0000   \n",
      "2020-05-12     55.01     55.50    54.50      55.14   4242800.0         0.0000   \n",
      "2020-05-13     54.81     54.81    53.82      54.22   3484000.0         0.0000   \n",
      "2020-05-14       NaN       NaN      NaN        NaN         NaN         0.4075   \n",
      "2020-05-14     53.78     53.85    52.54      52.74    449957.0         0.0000   \n",
      "\n",
      "            CMS_Stock Splits  \n",
      "Date                          \n",
      "2020-05-11                 0  \n",
      "2020-05-12                 0  \n",
      "2020-05-13                 0  \n",
      "2020-05-14                 0  \n",
      "2020-05-14                 0  \n",
      "23.668639053254438% Gathered\n",
      "25.64102564102564% Gathered\n",
      "CTVA\n",
      "            CTVA_Open  CTVA_High  CTVA_Low  CTVA_Close  CTVA_Volume  \\\n",
      "Date                                                                  \n",
      "2020-05-11      24.96      25.01     24.15       24.24    6871900.0   \n",
      "2020-05-12      24.15      24.31     23.09       23.12    4881100.0   \n",
      "2020-05-13      23.02      23.27     22.25       23.14    4581500.0   \n",
      "2020-05-14        NaN        NaN       NaN         NaN          NaN   \n",
      "2020-05-14      22.77      23.20     22.38       23.19     712393.0   \n",
      "\n",
      "            CTVA_Dividends  CTVA_Stock Splits  \n",
      "Date                                           \n",
      "2020-05-11            0.00                  0  \n",
      "2020-05-12            0.00                  0  \n",
      "2020-05-13            0.00                  0  \n",
      "2020-05-14            0.13                  0  \n",
      "2020-05-14            0.00                  0  \n"
     ]
    },
    {
     "ename": "KeyboardInterrupt",
     "evalue": "",
     "output_type": "error",
     "traceback": [
      "\u001b[1;31m---------------------------------------------------------------------------\u001b[0m",
      "\u001b[1;31mKeyboardInterrupt\u001b[0m                         Traceback (most recent call last)",
      "\u001b[1;32m<ipython-input-12-da8ad390fcad>\u001b[0m in \u001b[0;36m<module>\u001b[1;34m\u001b[0m\n\u001b[0;32m      5\u001b[0m     \u001b[0mbase\u001b[0m \u001b[1;33m=\u001b[0m \u001b[0mnp\u001b[0m\u001b[1;33m.\u001b[0m\u001b[0mrandom\u001b[0m\u001b[1;33m.\u001b[0m\u001b[0muniform\u001b[0m\u001b[1;33m(\u001b[0m\u001b[0mlow\u001b[0m\u001b[1;33m=\u001b[0m\u001b[1;36m0\u001b[0m\u001b[1;33m,\u001b[0m \u001b[0mhigh\u001b[0m\u001b[1;33m=\u001b[0m\u001b[1;36m2\u001b[0m\u001b[1;33m)\u001b[0m\u001b[1;33m\u001b[0m\u001b[1;33m\u001b[0m\u001b[0m\n\u001b[0;32m      6\u001b[0m     \u001b[0mran\u001b[0m \u001b[1;33m=\u001b[0m \u001b[0mnp\u001b[0m\u001b[1;33m.\u001b[0m\u001b[0mabs\u001b[0m\u001b[1;33m(\u001b[0m\u001b[0mnp\u001b[0m\u001b[1;33m.\u001b[0m\u001b[0mrandom\u001b[0m\u001b[1;33m.\u001b[0m\u001b[0mnormal\u001b[0m\u001b[1;33m(\u001b[0m\u001b[1;36m5\u001b[0m\u001b[1;33m,\u001b[0m\u001b[0mbase\u001b[0m\u001b[1;33m)\u001b[0m\u001b[1;33m)\u001b[0m\u001b[1;33m\u001b[0m\u001b[1;33m\u001b[0m\u001b[0m\n\u001b[1;32m----> 7\u001b[1;33m     \u001b[0mtime\u001b[0m\u001b[1;33m.\u001b[0m\u001b[0msleep\u001b[0m\u001b[1;33m(\u001b[0m\u001b[0mran\u001b[0m\u001b[1;33m)\u001b[0m\u001b[1;33m\u001b[0m\u001b[1;33m\u001b[0m\u001b[0m\n\u001b[0m\u001b[0;32m      8\u001b[0m \u001b[1;33m\u001b[0m\u001b[0m\n\u001b[0;32m      9\u001b[0m     \u001b[1;32mtry\u001b[0m\u001b[1;33m:\u001b[0m\u001b[1;33m\u001b[0m\u001b[1;33m\u001b[0m\u001b[0m\n",
      "\u001b[1;31mKeyboardInterrupt\u001b[0m: "
     ]
    }
   ],
   "source": [
    "end=len(ticklist)\n",
    "ticklist = [ticker for ticker in ticklist if ticker not in ['BRK.B','BF.B','KEYS']]\n",
    "for i,ticker in enumerate(ticklist[1:end]):\n",
    "    \n",
    "    base = np.random.uniform(low=0, high=2)\n",
    "    ran = np.abs(np.random.normal(5,base))\n",
    "    time.sleep(ran)\n",
    "\n",
    "    try:\n",
    "        new_df = yf.Ticker(ticker).history(period=\"max\")\n",
    "        rename_with_symbols(new_df, ticker)\n",
    "        \n",
    "        dupe_list = new_df.index.duplicated()\n",
    "        dupe_sum = np.sum(dupe_list)\n",
    "        if dupe_sum > 0:\n",
    "            print(ticker)\n",
    "            print(new_df.tail())\n",
    "            \n",
    "            keeplist = list(range(0,len(new_df)-2))\n",
    "            keeplist.append(len(new_df)-1)\n",
    "            new_df = new_df.iloc[keeplist,:]\n",
    "            \n",
    "            print(new_df.tail())\n",
    "        \n",
    "        total_df = total_df.join(new_df, how='outer')\n",
    "    except:\n",
    "        print(\"failed {}\".format(ticker))\n",
    "        next\n",
    "        \n",
    "    indlist = list(total_df.index)\n",
    "    indlist = [str(item)[:10] for item in indlist]\n",
    "\n",
    "    if indlist.count('2020-05-08') > 1:\n",
    "        print(\"Error of multiple May 7 Happened on {} number ticker {}\".format(i, ticker))\n",
    "        \n",
    "    if i%50 == 0:\n",
    "        print(\"{}% Gathered\".format(i/len(ticklist)*100))\n",
    "    \n",
    "total_df = total_df[[col for col in total_df.columns if 'Close' in col]]\n",
    "remove_close(total_df)\n",
    "    \n",
    "total_df.tail()"
   ]
  },
  {
   "cell_type": "code",
   "execution_count": null,
   "metadata": {},
   "outputs": [],
   "source": [
    "#total_df = total_df.iloc[:-1,:]    # Use this cell if running on a day that has not hit close of market yet \n",
    "total_df.tail(40)"
   ]
  },
  {
   "cell_type": "code",
   "execution_count": null,
   "metadata": {},
   "outputs": [],
   "source": [
    "total_df.to_csv(\"sp500_individual_prices.csv\")"
   ]
  },
  {
   "cell_type": "code",
   "execution_count": null,
   "metadata": {},
   "outputs": [],
   "source": [
    "returns_df = total_df.copy(deep=True)\n",
    "for ticker in returns_df.columns:#ticklist[:end]:\n",
    "    today = returns_df[\"{}\".format(ticker)]\n",
    "    yesterday = returns_df[\"{}\".format(ticker)].shift(1, axis=0)\n",
    "    returns_df[ticker] = (today-yesterday)/yesterday*100\n",
    "returns_df = returns_df[returns_df.columns]\n",
    "returns_df.to_csv(\"sp500_individual_returns.csv\")"
   ]
  },
  {
   "cell_type": "code",
   "execution_count": null,
   "metadata": {},
   "outputs": [],
   "source": [
    "returns_df.head()"
   ]
  },
  {
   "cell_type": "code",
   "execution_count": null,
   "metadata": {},
   "outputs": [],
   "source": [
    "returns_df.tail()"
   ]
  },
  {
   "cell_type": "code",
   "execution_count": null,
   "metadata": {},
   "outputs": [],
   "source": [
    "pdf = pd.read_csv(\"sp500_individual_prices.csv\", index_col=0)\n",
    "rdf = pd.read_csv(\"sp500_individual_returns.csv\", index_col=0)"
   ]
  },
  {
   "cell_type": "code",
   "execution_count": null,
   "metadata": {},
   "outputs": [],
   "source": [
    "plist = pdf.columns\n",
    "rlist = rdf.columns\n",
    "[item for item in plist if item not in rlist]"
   ]
  },
  {
   "cell_type": "code",
   "execution_count": null,
   "metadata": {},
   "outputs": [],
   "source": [
    "pdf = pdf[rlist]\n",
    "pdf.head()"
   ]
  },
  {
   "cell_type": "code",
   "execution_count": null,
   "metadata": {},
   "outputs": [],
   "source": [
    "#pdf.to_csv(\"sp500_individual_prices_505.csv\")"
   ]
  },
  {
   "cell_type": "code",
   "execution_count": null,
   "metadata": {},
   "outputs": [],
   "source": []
  }
 ],
 "metadata": {
  "kernelspec": {
   "display_name": "Python 3",
   "language": "python",
   "name": "python3"
  },
  "language_info": {
   "codemirror_mode": {
    "name": "ipython",
    "version": 3
   },
   "file_extension": ".py",
   "mimetype": "text/x-python",
   "name": "python",
   "nbconvert_exporter": "python",
   "pygments_lexer": "ipython3",
   "version": "3.7.4"
  }
 },
 "nbformat": 4,
 "nbformat_minor": 2
}

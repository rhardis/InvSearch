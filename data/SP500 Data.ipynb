{
 "cells": [
  {
   "cell_type": "code",
   "execution_count": null,
   "metadata": {},
   "outputs": [],
   "source": [
    "import yfinance as yf\n",
    "import pandas as pd\n",
    "import numpy as np\n",
    "import time"
   ]
  },
  {
   "cell_type": "code",
   "execution_count": null,
   "metadata": {},
   "outputs": [],
   "source": [
    "sp500 = pd.read_csv(\"S&P500-Symbols.csv\",index_col=0)"
   ]
  },
  {
   "cell_type": "code",
   "execution_count": null,
   "metadata": {},
   "outputs": [],
   "source": [
    "def rename_with_symbols(df, symbol):\n",
    "    for col in df.columns:\n",
    "        if '_' not in col:\n",
    "            df.rename(columns={col: \"{}_{}\".format(symbol,col)}, inplace=True)\n",
    "    return(None)\n",
    "\n",
    "def remove_close(df):\n",
    "    for col in df.columns:\n",
    "        df.rename(columns={col: col[:-6]}, inplace=True)\n",
    "    return(None)\n",
    "        "
   ]
  },
  {
   "cell_type": "code",
   "execution_count": null,
   "metadata": {},
   "outputs": [],
   "source": [
    "ticklist = ['^GSPC']+list(sp500.iloc[:,0])\n",
    "total_df = yf.Ticker(ticklist[0]).history(period=\"max\")\n",
    "\n",
    "rename_with_symbols(total_df, ticklist[0])\n",
    "\n",
    "total_df.head() "
   ]
  },
  {
   "cell_type": "code",
   "execution_count": null,
   "metadata": {},
   "outputs": [],
   "source": [
    "end=len(ticklist)\n",
    "ticklist = [ticker for ticker in ticklist if ticker not in ['BRK.B','BF.B','KEYS']]\n",
    "for i,ticker in enumerate(ticklist[1:end]):\n",
    "    ran = np.random.uniform(low=-1, high=1)*2\n",
    "    time.sleep(3+ran)\n",
    "\n",
    "    try:\n",
    "        new_df = yf.Ticker(ticker).history(period=\"max\")\n",
    "        rename_with_symbols(new_df, ticker)\n",
    "        total_df = total_df.join(new_df, how='outer')\n",
    "    except:\n",
    "        print(\"failed {}\".format(ticker))\n",
    "        next\n",
    "        \n",
    "    if i%10 == 0:\n",
    "        print(\"{}% Gathered\".format(i/len(ticklist)*100))\n",
    "    \n",
    "total_df = total_df[[col for col in total_df.columns if 'Close' in col]]\n",
    "remove_close(total_df)\n",
    "    \n",
    "total_df.tail(20)"
   ]
  },
  {
   "cell_type": "code",
   "execution_count": null,
   "metadata": {},
   "outputs": [],
   "source": [
    "total_df.index"
   ]
  },
  {
   "cell_type": "code",
   "execution_count": null,
   "metadata": {},
   "outputs": [],
   "source": [
    "total_df.to_csv(\"sp500_individual_prices.csv\")"
   ]
  },
  {
   "cell_type": "code",
   "execution_count": null,
   "metadata": {},
   "outputs": [],
   "source": [
    "returns_df = total_df.copy(deep=True)\n",
    "for ticker in ticklist[:end]:\n",
    "    today = returns_df[\"{}\".format(ticker)]\n",
    "    yesterday = returns_df[\"{}\".format(ticker)].shift(1, axis=0)\n",
    "    returns_df[ticker] = (today-yesterday)/yesterday*100\n",
    "returns_df = returns_df[ticklist[:end]]\n",
    "returns_df.to_csv(\"sp500_individual_returns.csv\")"
   ]
  },
  {
   "cell_type": "code",
   "execution_count": null,
   "metadata": {},
   "outputs": [],
   "source": [
    "returns_df.head()"
   ]
  },
  {
   "cell_type": "code",
   "execution_count": null,
   "metadata": {},
   "outputs": [],
   "source": [
    "returns_df.tail()"
   ]
  },
  {
   "cell_type": "code",
   "execution_count": null,
   "metadata": {},
   "outputs": [],
   "source": [
    "pdf = pd.read_csv(\"sp500_individual_prices.csv\", index_col=0)\n",
    "rdf = pd.read_csv(\"sp500_individual_returns.csv\", index_col=0)"
   ]
  },
  {
   "cell_type": "code",
   "execution_count": null,
   "metadata": {},
   "outputs": [],
   "source": [
    "plist = pdf.columns\n",
    "rlist = rdf.columns\n",
    "[item for item in plist if item not in rlist]"
   ]
  },
  {
   "cell_type": "code",
   "execution_count": null,
   "metadata": {},
   "outputs": [],
   "source": [
    "pdf = pdf[rlist]\n",
    "pdf.head()"
   ]
  },
  {
   "cell_type": "code",
   "execution_count": null,
   "metadata": {},
   "outputs": [],
   "source": [
    "#pdf.to_csv(\"sp500_individual_prices_505.csv\")"
   ]
  },
  {
   "cell_type": "code",
   "execution_count": null,
   "metadata": {},
   "outputs": [],
   "source": []
  }
 ],
 "metadata": {
  "kernelspec": {
   "display_name": "Python 3",
   "language": "python",
   "name": "python3"
  },
  "language_info": {
   "codemirror_mode": {
    "name": "ipython",
    "version": 3
   },
   "file_extension": ".py",
   "mimetype": "text/x-python",
   "name": "python",
   "nbconvert_exporter": "python",
   "pygments_lexer": "ipython3",
   "version": "3.7.4"
  }
 },
 "nbformat": 4,
 "nbformat_minor": 2
}

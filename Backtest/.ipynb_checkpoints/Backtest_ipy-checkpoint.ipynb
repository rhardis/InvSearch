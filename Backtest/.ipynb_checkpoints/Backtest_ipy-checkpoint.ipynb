{
 "cells": [
  {
   "cell_type": "code",
   "execution_count": 37,
   "metadata": {},
   "outputs": [],
   "source": [
    "import numpy as np"
   ]
  },
  {
   "cell_type": "code",
   "execution_count": 36,
   "metadata": {},
   "outputs": [],
   "source": [
    "class Account:\n",
    "    def __init__(self, test_name, starting_balance):\n",
    "        self.name = test_name\n",
    "        self.assets = {}  # 'ticker': {'share_count':#, 'share_value':#, 'cost_basis':#}\n",
    "        self.balance = starting_balance\n",
    "        self.account_value = starting_balance\n",
    "        \n",
    "    def update_account_value(self):\n",
    "        self.account_value = self.balance\n",
    "        for key in self.assets.keys():\n",
    "            self.account_value += self.assets[key]['share_count'] * self.assets[key]['share_price']\n",
    "            \n",
    "    def buy(self, ticker, shares, price):\n",
    "        sale_price = shares*price\n",
    "        self.balance -= sale_price\n",
    "        \n",
    "        if ticker not in self.assets.keys():\n",
    "            self.assets[ticker] = {'share_count':0, 'cost_basis':0}\n",
    "        \n",
    "        prior_cost_basis = self.assets[ticker]['cost_basis']\n",
    "        prior_share_count = self.assets[ticker]['share_count']\n",
    "        self.assets[ticker]['cost_basis'] = ((prior_cost_basis*prior_share_count)+sale_price)/(prior_share_count+shares)\n",
    "        \n",
    "        self.assets[ticker]['share_count'] += shares\n",
    "\n",
    "    \n",
    "    def sell(self, ticker, shares, price):\n",
    "        if ticker not in self.assets.keys():\n",
    "            pass\n",
    "        \n",
    "        sale_price = shares*price\n",
    "        self.balance += sale_price\n",
    "        \n",
    "        prior_cost_basis = self.assets[ticker]['cost_basis']\n",
    "        prior_share_count = self.assets[ticker]['share_count']\n",
    "        self.assets[ticker]['cost_basis'] = ((prior_cost_basis*prior_share_count)+sale_price)/(prior_share_count+shares)\n",
    "        \n",
    "        self.assets[ticker]['share_count'] += shares"
   ]
  },
  {
   "cell_type": "code",
   "execution_count": 31,
   "metadata": {},
   "outputs": [],
   "source": [
    "example = Account('example', 100)"
   ]
  },
  {
   "cell_type": "code",
   "execution_count": 32,
   "metadata": {},
   "outputs": [],
   "source": [
    "example.buy('tlp',10,15)"
   ]
  },
  {
   "cell_type": "code",
   "execution_count": 33,
   "metadata": {},
   "outputs": [],
   "source": [
    "example.buy('tlp',20,20)"
   ]
  },
  {
   "cell_type": "code",
   "execution_count": 34,
   "metadata": {},
   "outputs": [
    {
     "data": {
      "text/plain": [
       "{'tlp': {'share_count': 30, 'cost_basis': 18.333333333333332}}"
      ]
     },
     "execution_count": 34,
     "metadata": {},
     "output_type": "execute_result"
    }
   ],
   "source": [
    "example.assets"
   ]
  },
  {
   "cell_type": "code",
   "execution_count": null,
   "metadata": {},
   "outputs": [],
   "source": []
  }
 ],
 "metadata": {
  "kernelspec": {
   "display_name": "Python 3",
   "language": "python",
   "name": "python3"
  },
  "language_info": {
   "codemirror_mode": {
    "name": "ipython",
    "version": 3
   },
   "file_extension": ".py",
   "mimetype": "text/x-python",
   "name": "python",
   "nbconvert_exporter": "python",
   "pygments_lexer": "ipython3",
   "version": "3.7.4"
  }
 },
 "nbformat": 4,
 "nbformat_minor": 2
}
